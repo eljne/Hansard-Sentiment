{
 "cells": [
  {
   "cell_type": "code",
   "execution_count": 1,
   "metadata": {
    "collapsed": true
   },
   "outputs": [],
   "source": [
    "import nltk\n",
    "from nltk.corpus import stopwords\n",
    "from nltk.corpus import brown\n",
    "#nltk.download()\n",
    "import matplotlib.pyplot\n",
    "import re\n",
    "from nltk.stem.porter import PorterStemmer\n",
    "\n",
    "#order:\n",
    "    #tokenise\n",
    "    #normalize\n",
    "    #negation (needs to come before removal of punctuation)\n",
    "    #stemming (porters)\n",
    "    #stemming (RE)\n",
    "    #lemmatize\n",
    "    #remove stopwords\n",
    "    #remove punctuation\n",
    "    #tag x 4"
   ]
  },
  {
   "cell_type": "code",
   "execution_count": 2,
   "metadata": {
    "collapsed": true
   },
   "outputs": [],
   "source": [
    "domain = open('hansard-test.txt') #read in data from text file\n",
    "raw_domain = domain.read()\n",
    "\n",
    "#sentence segmentation\n",
    "#sents = nltk.sent_tokenize(raw_domain)\n",
    "\n",
    "tokens = nltk.word_tokenize(raw_domain) #tokenise \n",
    "words = [w.lower() for w in tokens] #normalize"
   ]
  },
  {
   "cell_type": "code",
   "execution_count": 3,
   "metadata": {
    "collapsed": true
   },
   "outputs": [],
   "source": [
    "def negation(text): # apply negation\n",
    "    for w in range(0,len(text)):\n",
    "        if (text[w] == 'not'):\n",
    "            n=1\n",
    "            while True :\n",
    "                text[w+n] = 'NOT_'+text[w+n] #add 'NOT' to each word (concat) \n",
    "                n+=1\n",
    "                if text[w+n] == '.':#until end of sentence\n",
    "                    break\n",
    "    return text\n",
    "\n",
    "def stem(word): #stem\n",
    "    regexp = r'^(.*?)(ing|ly|ed|ious|ies|ive|es|s|ment)?$'\n",
    "    stem, suffix = re.findall(regexp, word)[0]\n",
    "    return stem\n",
    "\n",
    "porter_stemmer = PorterStemmer() #stem method 2"
   ]
  },
  {
   "cell_type": "code",
   "execution_count": 4,
   "metadata": {},
   "outputs": [
    {
     "name": "stdout",
     "output_type": "stream",
     "text": [
      "['online', 'hate', 'speech', 'statement', '11:37:00', 'minister', 'state', ',', 'home', 'office', '(', 'baroness', 'williams', 'trafford', ')', '(', 'con', ')', 'lords', ',', 'leave', 'house', ',', 'shall', 'repeat', 'form', 'statement', 'answer', 'delivered', 'place', 'right', 'honourable', 'friend', 'home', 'secretary', '.', 'statement', 'follows', ':', '“', 'britain', 'first', 'extremist', 'organisation', 'seeks', 'divide', 'communities', 'use', 'hateful', 'narratives', 'spread', 'lies', 'stoke', 'tensions', '.', 'deputy', 'leader', 'britain', 'first', 'subject', 'pending', 'criminal', 'trial', ',', 'accused', 'religiously', 'aggravated', 'harassment', 'alleged', 'distribution', 'leaflets', 'posting', 'online', 'material', '.', 'british', 'people', 'overwhelmingly', 'reject', 'prejudiced', 'rhetoric', 'far', 'right', ',', 'antithesis', 'values', 'country', 'represents—decency', ',', 'tolerance', 'respect', '.', 'stand', '.', 'launched', 'counter-extremism', 'strategy', '2015', 'launched', 'hate', 'crime', 'action', 'plan', 'last', 'year', '.', 'house', 'clear', 'government', 'not', 'NOT_tolerate', 'NOT_groups', 'NOT_spread', 'NOT_hate', 'NOT_demonising', 'NOT_faiths', 'NOT_ethnicities', 'NOT_,', 'NOT_deliberately', 'NOT_raise', 'NOT_community', 'NOT_fears', 'NOT_tensions', '.', 'also', 'clear', 'president', 'donald', 'trump', 'wrong', 'retweet', 'videos', 'posted', 'far-right', 'group', 'britain', 'first', '.', 'look', 'wider', 'picture', 'relationship', 'uk', 'america', ',', 'know', 'valuable', 'friendship', 'two', 'nations', '.', 'home', 'secretary', ',', 'tell', 'house', 'relationship', 'countries—the', 'unparalleled', 'sharing', 'intelligence', 'countries—is', 'vital', 'importance', '.', 'undoubtedly', 'saved', 'british', 'lives', '.', 'bigger', 'picture', 'urge', 'people', 'remember', '”', '.', '11:39:00', 'lord', 'kennedy', 'southwark', '(', 'lab', 'co-op', ')', 'lords', ',', 'first', ',', 'prime', 'minister', 'absolutely', 'right', 'make', 'clear', 'president', 'trump', 'wrong', 'tweet', 'videos', 'extremist', 'group', 'britain', 'first', '.', 'actions', 'no', 'help', 'fight', 'terrorism', '.', 'secondly', ',', 'minister', 'agree', 'united', 'kingdom', 'always', 'always', 'fight', 'terrorism', 'wherever', 'comes', ',', 'police', ',', 'security', 'services', 'military', 'keeping', 'us', 'safe', '24', 'hours', 'day', ',', 'people', 'faith—whatever', 'faith', 'may', 'be—and', 'people', 'no', 'faith', 'coming', 'together', 'communities', ',', 'respecting', ',', 'celebrating', 'differences', 'learning', ',', 'equally', 'important', 'fighting', 'terrorism', 'spreaders', 'hate', '?', 'colleagues', 'government', 'look', 'remove', 'vile', 'sites', ',', 'britain', 'first', ',', 'web', '?', 'baroness', 'williams', 'trafford', 'completely', 'agree', 'noble', 'lord', '.', 'always', 'fight', 'terrorism', ',', 'fight', 'together', 'whatever', 'form', 'takes', '.', 'remember', 'different', 'communities', 'different', 'faiths', 'played', 'part', 'wars', 'fought', 'together', '.', 'society', ',', 'not', 'NOT_tolerate', 'NOT_divisions', 'NOT_seek', 'NOT_penetrate', 'NOT_communities', '.', 'noble', 'lord', '’', 'point', 'going', 'tackle', 'activities', 'twitter', 'social', 'media', 'sites', ',', 'twitter', 'takes', '95', '%', 'illegal', 'activity', ',', 'point', 'us', 'working', 'together', 'two', 'nations', ',', 'us', 'able', 'talk', 'csps', 'taking', 'content', 'twitter', 'platforms', ',', 'continue', '.', 'online', 'hate', 'crime', 'hub', ',', 'tell', 'mama', ',', 'allows', 'people', 'report', 'islamophobia', ',', 'community', 'security', 'trust', 'repository', 'people', 'report', 'anti-semitism', 'related', 'activity', '.', 'absolutely', 'determined', 'drive', 'forms', 'hatred', 'within', 'country', ',', 'country', 'rightly', 'proud', 'tolerance', 'respect', 'faiths', 'communities', '.', 'lord', 'paddick', '(', 'ld', ')', 'lords', ',', 'tweet', 'criticising', 'prime', 'minister', ',', 'president', 'trump', 'talked', '“', 'radical', 'islamic', 'terrorism', '”', '.', 'minister', 'agree', 'difference', 'islam', ',', 'religion', ',', 'islamism', ',', 'violent', 'political', 'ideology', 'seeks', 'overthrow', 'democratically', 'elected', 'governments', 'liberal', 'values', ',', 'expression', '“', 'islamic', 'terrorism', '”', 'contradiction', 'terms', 'deeply', 'unhelpful', '?', 'must', 'clearly', 'differentiate', 'violent', 'criminals', 'followers', 'religion', '.', 'baroness', 'williams', 'trafford', 'noble', 'lord', 'absolutely', 'right', 'make', 'distinction', 'islam', 'islamist', 'extremism', '.', 'make', 'point', 'overwhelming', 'majority', 'muslims', 'country', 'law-abiding', ',', 'peaceful', 'people', 'abhor', 'islamist', 'extremism', '.', 'prime', 'minister', 'always', 'clear', 'ideologies', 'exist', ',', 'must', 'tackled', 'head', '.', 'precisely', 'uk', 'government', 'home', 'co-operation', 'international', 'partners', '.', 'example', ',', 'previously', 'mentioned', 'co-operation', 'remove', 'terrorist', 'content', 'websites', '.', 'noble', 'lord', 'absolutely', 'right', 'point', 'distinction', '.', 'must', 'see', 'happened', '.', 'lord', 'bishop', 'worcester', 'last', 'point', 'made', 'noble', 'lord', ',', 'minister', 'agree', 'addition', 'abhorring', 'violence', ',', 'vast', 'majority', 'muslims', 'country', 'make', 'immeasurable', 'contribution', 'life', 'country', ',', 'profoundly', 'grateful', 'needs', 'expressed', 'house', '?', 'baroness', 'williams', 'trafford', 'delighted', 'express', 'behalf', 'house', ',', 'sure', 'noble', 'lords', 'agree', ',', 'not', 'NOT_muslims', 'NOT_abhor', 'NOT_violence—it', 'NOT_part', 'NOT_teaching', 'NOT_koran—but', 'NOT_helped', 'NOT_us', 'NOT_wars', 'NOT_fought', '.', 'first-hand', 'experience', 'helped', 'aftermath', 'awful', 'events', 'country', ',', 'not', 'NOT_terrorist', 'NOT_attack', 'NOT_manchester', 'NOT_,', 'NOT_muslim', 'NOT_taxi', 'NOT_drivers', 'NOT_hand', 'NOT_giving', 'NOT_service', 'NOT_free', 'NOT_,', 'NOT_floods', 'NOT_manchester', 'NOT_muslim', 'NOT_community', 'NOT_helped', 'NOT_provide', 'NOT_food', 'NOT_shelter', 'NOT_people', 'NOT_need', '.', 'brought', 'communities', 'together', ',', 'remember', '.', 'lord', 'cormack', '(', 'con', ')', 'lords', ',', 'could', 'gently', 'suggest', 'president', 'greatest', 'ally', 'would', 'make', 'white', 'house', 'tweet', 'twitter-free', 'zone', ',', 'would', 'make', 'immeasurable', 'contribution', 'peace', 'world', '?', 'baroness', 'williams', 'trafford', 'recall', 'words', 'former', 'prime', 'minister', '“', 'many', 'tweets', '”', '.', 'shall', 'not', 'NOT_repeat', 'NOT_said', 'NOT_,', 'NOT_yes', 'NOT_,', 'NOT_must', 'NOT_careful', 'NOT_tweet', 'NOT_effect', 'NOT_wider', 'NOT_community', '.', 'tweet', 'care', '.', 'lord', 'blair', 'boughton', '(', 'cb', ')', 'consideration', 'given', 'home', 'office', 'proscription', 'organisation', '?', 'baroness', 'williams', 'trafford', 'sure', 'noble', 'lord', 'appreciate', 'would', 'not', 'NOT_comment', 'NOT_ongoing', 'NOT_considerations', 'NOT_proscriptions', '.', 'kept', 'regular', 'review', '.', 'lord', 'hain', '(', 'lab', ')', 'lords', ',', 'assume', 'president', 'trump', 'tweets', 'messages', 'thought', 'carefully', 'agrees', '?', ',', 'endorsed', 'nazi', 'group', 'vicious', 'record', 'attacks', ',', 'racism', ',', 'islamophobia', 'anti-semitism', '.', 'surely', 'no', 'question', 'state', 'visit', 'expressed', 'least', 'remorse', '.', 'baroness', 'williams', 'trafford', 'lords', ',', 'would', 'not', 'NOT_want', 'NOT_make', 'NOT_assumption', 'NOT_people', 'NOT_think', 'NOT_tweet', '.', 'state', 'visit', ',', 'invitation', 'extended', 'accepted', ',', 'firm', 'timetable', 'not', 'NOT_yet', 'NOT_finalised', '.', 'lord', 'pearson', 'rannoch', '(', 'ukip', ')', 'lords', ',', 'government', 'agree', 'reverend', 'primate', 'archbishop', 'canterbury', 'said', 'paris', 'last', 'september', 'effect', 'wrong', 'pretend', 'daesh', 'nothing', 'islam', 'not', 'NOT_defeat', 'NOT_islamism', 'NOT_understand', 'NOT_islam', 'NOT_?', 'NOT_government', 'NOT_understanding', 'NOT_?', 'NOT_baroness', 'NOT_williams', 'NOT_trafford', 'NOT_lords', 'NOT_,', 'NOT_absolutely', 'NOT_correct', 'NOT_daesh', 'NOT_nothing', 'NOT_islam', '.', 'daesh', 'seeks', 'promote', 'ideology', 'form', 'islam', ',', 'actually', 'nothing', 'islam', ',', 'peaceful', 'religion', '.', 'viscount', 'waverley', '(', 'cb', ')', 'lords', ',', 'not', 'NOT_time', 'NOT_come', 'NOT_welcome', 'NOT_imam', 'NOT_house', 'NOT_?', 'NOT_baroness', 'NOT_williams', 'NOT_trafford', 'NOT_would', 'NOT_great', 'NOT_moment', '.', 'baroness', 'altmann', '(', 'con', ')', 'lords', ',', 'could', 'noble', 'friend', 'pass', 'congratulations', 'prime', 'minister', 'immediate', 'robust', 'response', 'hate-filled', 'tweets', 'president', 'trump', 'seems', 'endorsed', '?', 'could', 'also', 'pass', 'pride', 'feel', 'country', 'government', 'respectful', 'religions', ',', 'people', 'faiths', 'none', ',', 'proud', 'live', 'country', 'tolerant', '?', 'baroness', 'williams', 'trafford', 'agree', 'noble', 'friend', '.', 'prime', 'minister', 'acted', 'quickly', 'robustly', '.', 'could', 'no', 'confusion', 'said', ',', 'yes', ',', 'country', 'respects', 'religions', 'proud', 'country', 'live', '.', 'lord', 'scriven', '(', 'ld', ')', 'lords', ',', 'minister', 'said', 'state', 'visit', 'offered', 'accepted', '.', 'noble', 'lord', ',', 'lord', 'bourne', 'aberystwyth', ',', 'government', 'minister', 'faith', ',', 'less', '50', 'minutes', 'ago', 'said', 'would', 'unable', 'welcome', 'president', 'united', 'states', 'tweets', '.', 'home', 'office', 'responsible', 'community', 'cohesion', ',', 'would', 'ministers', 'home', 'office', 'also', 'unable', 'welcome', 'president', 'united', 'states', '?', 'baroness', 'williams', 'trafford', 'lords', ',', 'point', 'made', 'place', 'today', 'must', 'think', 'relationship', 'us', 'uk', 'incredibly', 'important', '.', 'described', 'us', 'instrumental', 'home', 'secretary', 'able', 'visit', 'csps', 'encourage', 'take', 'illegal', 'material', 'twitter', '.', 'reiterate', 'point', 'invitation', 'extended', 'accepted', '.']\n"
     ]
    }
   ],
   "source": [
    "words = [word for word in words if word not in stopwords.words('english') or word in ('not')] #remove stopwords\n",
    "words = negation(words)\n",
    "#words = [stem(w) for w in words] #stem\n",
    "#words = [porter_stemmer.stem(w) for w in words] #stem w/ porter\n",
    "#wnl = nltk.WordNetLemmatizer()\n",
    "#words = [wnl.lemmatize(w) for w in words] #lemmatize\n",
    "print(words)"
   ]
  },
  {
   "cell_type": "code",
   "execution_count": 5,
   "metadata": {
    "collapsed": true
   },
   "outputs": [],
   "source": [
    "words = [word for word in words if word.isalpha() or word.startswith('NOT_')] #remove punctuation"
   ]
  },
  {
   "cell_type": "code",
   "execution_count": 6,
   "metadata": {},
   "outputs": [
    {
     "name": "stdout",
     "output_type": "stream",
     "text": [
      "['online', 'hate', 'speech', 'statement', 'minister', 'state', 'home', 'office', 'baroness', 'williams', 'trafford', 'con', 'lords', 'leave', 'house', 'shall', 'repeat', 'form', 'statement', 'answer', 'delivered', 'place', 'right', 'honourable', 'friend', 'home', 'secretary', 'statement', 'follows', 'britain', 'first', 'extremist', 'organisation', 'seeks', 'divide', 'communities', 'use', 'hateful', 'narratives', 'spread', 'lies', 'stoke', 'tensions', 'deputy', 'leader', 'britain', 'first', 'subject', 'pending', 'criminal', 'trial', 'accused', 'religiously', 'aggravated', 'harassment', 'alleged', 'distribution', 'leaflets', 'posting', 'online', 'material', 'british', 'people', 'overwhelmingly', 'reject', 'prejudiced', 'rhetoric', 'far', 'right', 'antithesis', 'values', 'country', 'tolerance', 'respect', 'stand', 'launched', 'strategy', 'launched', 'hate', 'crime', 'action', 'plan', 'last', 'year', 'house', 'clear', 'government', 'not', 'NOT_tolerate', 'NOT_groups', 'NOT_spread', 'NOT_hate', 'NOT_demonising', 'NOT_faiths', 'NOT_ethnicities', 'NOT_,', 'NOT_deliberately', 'NOT_raise', 'NOT_community', 'NOT_fears', 'NOT_tensions', 'also', 'clear', 'president', 'donald', 'trump', 'wrong', 'retweet', 'videos', 'posted', 'group', 'britain', 'first', 'look', 'wider', 'picture', 'relationship', 'uk', 'america', 'know', 'valuable', 'friendship', 'two', 'nations', 'home', 'secretary', 'tell', 'house', 'relationship', 'unparalleled', 'sharing', 'intelligence', 'vital', 'importance', 'undoubtedly', 'saved', 'british', 'lives', 'bigger', 'picture', 'urge', 'people', 'remember', 'lord', 'kennedy', 'southwark', 'lab', 'lords', 'first', 'prime', 'minister', 'absolutely', 'right', 'make', 'clear', 'president', 'trump', 'wrong', 'tweet', 'videos', 'extremist', 'group', 'britain', 'first', 'actions', 'no', 'help', 'fight', 'terrorism', 'secondly', 'minister', 'agree', 'united', 'kingdom', 'always', 'always', 'fight', 'terrorism', 'wherever', 'comes', 'police', 'security', 'services', 'military', 'keeping', 'us', 'safe', 'hours', 'day', 'people', 'faith', 'may', 'people', 'no', 'faith', 'coming', 'together', 'communities', 'respecting', 'celebrating', 'differences', 'learning', 'equally', 'important', 'fighting', 'terrorism', 'spreaders', 'hate', 'colleagues', 'government', 'look', 'remove', 'vile', 'sites', 'britain', 'first', 'web', 'baroness', 'williams', 'trafford', 'completely', 'agree', 'noble', 'lord', 'always', 'fight', 'terrorism', 'fight', 'together', 'whatever', 'form', 'takes', 'remember', 'different', 'communities', 'different', 'faiths', 'played', 'part', 'wars', 'fought', 'together', 'society', 'not', 'NOT_tolerate', 'NOT_divisions', 'NOT_seek', 'NOT_penetrate', 'NOT_communities', 'noble', 'lord', 'point', 'going', 'tackle', 'activities', 'twitter', 'social', 'media', 'sites', 'twitter', 'takes', 'illegal', 'activity', 'point', 'us', 'working', 'together', 'two', 'nations', 'us', 'able', 'talk', 'csps', 'taking', 'content', 'twitter', 'platforms', 'continue', 'online', 'hate', 'crime', 'hub', 'tell', 'mama', 'allows', 'people', 'report', 'islamophobia', 'community', 'security', 'trust', 'repository', 'people', 'report', 'related', 'activity', 'absolutely', 'determined', 'drive', 'forms', 'hatred', 'within', 'country', 'country', 'rightly', 'proud', 'tolerance', 'respect', 'faiths', 'communities', 'lord', 'paddick', 'ld', 'lords', 'tweet', 'criticising', 'prime', 'minister', 'president', 'trump', 'talked', 'radical', 'islamic', 'terrorism', 'minister', 'agree', 'difference', 'islam', 'religion', 'islamism', 'violent', 'political', 'ideology', 'seeks', 'overthrow', 'democratically', 'elected', 'governments', 'liberal', 'values', 'expression', 'islamic', 'terrorism', 'contradiction', 'terms', 'deeply', 'unhelpful', 'must', 'clearly', 'differentiate', 'violent', 'criminals', 'followers', 'religion', 'baroness', 'williams', 'trafford', 'noble', 'lord', 'absolutely', 'right', 'make', 'distinction', 'islam', 'islamist', 'extremism', 'make', 'point', 'overwhelming', 'majority', 'muslims', 'country', 'peaceful', 'people', 'abhor', 'islamist', 'extremism', 'prime', 'minister', 'always', 'clear', 'ideologies', 'exist', 'must', 'tackled', 'head', 'precisely', 'uk', 'government', 'home', 'international', 'partners', 'example', 'previously', 'mentioned', 'remove', 'terrorist', 'content', 'websites', 'noble', 'lord', 'absolutely', 'right', 'point', 'distinction', 'must', 'see', 'happened', 'lord', 'bishop', 'worcester', 'last', 'point', 'made', 'noble', 'lord', 'minister', 'agree', 'addition', 'abhorring', 'violence', 'vast', 'majority', 'muslims', 'country', 'make', 'immeasurable', 'contribution', 'life', 'country', 'profoundly', 'grateful', 'needs', 'expressed', 'house', 'baroness', 'williams', 'trafford', 'delighted', 'express', 'behalf', 'house', 'sure', 'noble', 'lords', 'agree', 'not', 'NOT_muslims', 'NOT_abhor', 'NOT_violence—it', 'NOT_part', 'NOT_teaching', 'NOT_koran—but', 'NOT_helped', 'NOT_us', 'NOT_wars', 'NOT_fought', 'experience', 'helped', 'aftermath', 'awful', 'events', 'country', 'not', 'NOT_terrorist', 'NOT_attack', 'NOT_manchester', 'NOT_,', 'NOT_muslim', 'NOT_taxi', 'NOT_drivers', 'NOT_hand', 'NOT_giving', 'NOT_service', 'NOT_free', 'NOT_,', 'NOT_floods', 'NOT_manchester', 'NOT_muslim', 'NOT_community', 'NOT_helped', 'NOT_provide', 'NOT_food', 'NOT_shelter', 'NOT_people', 'NOT_need', 'brought', 'communities', 'together', 'remember', 'lord', 'cormack', 'con', 'lords', 'could', 'gently', 'suggest', 'president', 'greatest', 'ally', 'would', 'make', 'white', 'house', 'tweet', 'zone', 'would', 'make', 'immeasurable', 'contribution', 'peace', 'world', 'baroness', 'williams', 'trafford', 'recall', 'words', 'former', 'prime', 'minister', 'many', 'tweets', 'shall', 'not', 'NOT_repeat', 'NOT_said', 'NOT_,', 'NOT_yes', 'NOT_,', 'NOT_must', 'NOT_careful', 'NOT_tweet', 'NOT_effect', 'NOT_wider', 'NOT_community', 'tweet', 'care', 'lord', 'blair', 'boughton', 'cb', 'consideration', 'given', 'home', 'office', 'proscription', 'organisation', 'baroness', 'williams', 'trafford', 'sure', 'noble', 'lord', 'appreciate', 'would', 'not', 'NOT_comment', 'NOT_ongoing', 'NOT_considerations', 'NOT_proscriptions', 'kept', 'regular', 'review', 'lord', 'hain', 'lab', 'lords', 'assume', 'president', 'trump', 'tweets', 'messages', 'thought', 'carefully', 'agrees', 'endorsed', 'nazi', 'group', 'vicious', 'record', 'attacks', 'racism', 'islamophobia', 'surely', 'no', 'question', 'state', 'visit', 'expressed', 'least', 'remorse', 'baroness', 'williams', 'trafford', 'lords', 'would', 'not', 'NOT_want', 'NOT_make', 'NOT_assumption', 'NOT_people', 'NOT_think', 'NOT_tweet', 'state', 'visit', 'invitation', 'extended', 'accepted', 'firm', 'timetable', 'not', 'NOT_yet', 'NOT_finalised', 'lord', 'pearson', 'rannoch', 'ukip', 'lords', 'government', 'agree', 'reverend', 'primate', 'archbishop', 'canterbury', 'said', 'paris', 'last', 'september', 'effect', 'wrong', 'pretend', 'daesh', 'nothing', 'islam', 'not', 'NOT_defeat', 'NOT_islamism', 'NOT_understand', 'NOT_islam', 'NOT_?', 'NOT_government', 'NOT_understanding', 'NOT_?', 'NOT_baroness', 'NOT_williams', 'NOT_trafford', 'NOT_lords', 'NOT_,', 'NOT_absolutely', 'NOT_correct', 'NOT_daesh', 'NOT_nothing', 'NOT_islam', 'daesh', 'seeks', 'promote', 'ideology', 'form', 'islam', 'actually', 'nothing', 'islam', 'peaceful', 'religion', 'viscount', 'waverley', 'cb', 'lords', 'not', 'NOT_time', 'NOT_come', 'NOT_welcome', 'NOT_imam', 'NOT_house', 'NOT_?', 'NOT_baroness', 'NOT_williams', 'NOT_trafford', 'NOT_would', 'NOT_great', 'NOT_moment', 'baroness', 'altmann', 'con', 'lords', 'could', 'noble', 'friend', 'pass', 'congratulations', 'prime', 'minister', 'immediate', 'robust', 'response', 'tweets', 'president', 'trump', 'seems', 'endorsed', 'could', 'also', 'pass', 'pride', 'feel', 'country', 'government', 'respectful', 'religions', 'people', 'faiths', 'none', 'proud', 'live', 'country', 'tolerant', 'baroness', 'williams', 'trafford', 'agree', 'noble', 'friend', 'prime', 'minister', 'acted', 'quickly', 'robustly', 'could', 'no', 'confusion', 'said', 'yes', 'country', 'respects', 'religions', 'proud', 'country', 'live', 'lord', 'scriven', 'ld', 'lords', 'minister', 'said', 'state', 'visit', 'offered', 'accepted', 'noble', 'lord', 'lord', 'bourne', 'aberystwyth', 'government', 'minister', 'faith', 'less', 'minutes', 'ago', 'said', 'would', 'unable', 'welcome', 'president', 'united', 'states', 'tweets', 'home', 'office', 'responsible', 'community', 'cohesion', 'would', 'ministers', 'home', 'office', 'also', 'unable', 'welcome', 'president', 'united', 'states', 'baroness', 'williams', 'trafford', 'lords', 'point', 'made', 'place', 'today', 'must', 'think', 'relationship', 'us', 'uk', 'incredibly', 'important', 'described', 'us', 'instrumental', 'home', 'secretary', 'able', 'visit', 'csps', 'encourage', 'take', 'illegal', 'material', 'twitter', 'reiterate', 'point', 'invitation', 'extended', 'accepted']\n"
     ]
    }
   ],
   "source": [
    "print(words)"
   ]
  },
  {
   "cell_type": "code",
   "execution_count": 7,
   "metadata": {},
   "outputs": [
    {
     "name": "stdout",
     "output_type": "stream",
     "text": [
      "['online', 'hate', 'speech', 'statement', 'minister', 'state', 'home', 'office', 'baroness', 'williams', 'trafford', 'con', 'lords', 'leave', 'house', 'shall', 'repeat', 'form', 'statement', 'answer', 'delivered', 'place', 'right', 'honourable', 'friend', 'home', 'secretary', 'statement', 'follows', 'britain', 'first', 'extremist', 'organisation', 'seeks', 'divide', 'communities', 'use', 'hateful', 'narratives', 'spread', 'lies', 'stoke', 'tensions', 'deputy', 'leader', 'britain', 'first', 'subject', 'pending', 'criminal', 'trial', 'accused', 'religiously', 'aggravated', 'harassment', 'alleged', 'distribution', 'leaflets', 'posting', 'online', 'material', 'british', 'people', 'overwhelmingly', 'reject', 'prejudiced', 'rhetoric', 'far', 'right', 'antithesis', 'values', 'country', 'tolerance', 'respect', 'stand', 'launched', 'strategy', 'launched', 'hate', 'crime', 'action', 'plan', 'last', 'year', 'house', 'clear', 'government', 'not', 'NOT_tolerate', 'NOT_groups', 'NOT_spread', 'NOT_hate', 'NOT_demonising', 'NOT_faiths', 'NOT_ethnicities', 'NOT_,', 'NOT_deliberately', 'NOT_raise', 'NOT_community', 'NOT_fears', 'NOT_tensions', 'also', 'clear', 'president', 'donald', 'trump', 'wrong', 'retweet', 'videos', 'posted', 'group', 'britain', 'first', 'look', 'wider', 'picture', 'relationship', 'uk', 'america', 'know', 'valuable', 'friendship', 'two', 'nations', 'home', 'secretary', 'tell', 'house', 'relationship', 'unparalleled', 'sharing', 'intelligence', 'vital', 'importance', 'undoubtedly', 'saved', 'british', 'lives', 'bigger', 'picture', 'urge', 'people', 'remember', 'lord', 'kennedy', 'southwark', 'lab', 'lords', 'first', 'prime', 'minister', 'absolutely', 'right', 'make', 'clear', 'president', 'trump', 'wrong', 'tweet', 'videos', 'extremist', 'group', 'britain', 'first', 'actions', 'no', 'help', 'fight', 'terrorism', 'secondly', 'minister', 'agree', 'united', 'kingdom', 'always', 'always', 'fight', 'terrorism', 'wherever', 'comes', 'police', 'security', 'services', 'military', 'keeping', 'us', 'safe', 'hours', 'day', 'people', 'faith', 'may', 'people', 'no', 'faith', 'coming', 'together', 'communities', 'respecting', 'celebrating', 'differences', 'learning', 'equally', 'important', 'fighting', 'terrorism', 'spreaders', 'hate', 'colleagues', 'government', 'look', 'remove', 'vile', 'sites', 'britain', 'first', 'web', 'baroness', 'williams', 'trafford', 'completely', 'agree', 'noble', 'lord', 'always', 'fight', 'terrorism', 'fight', 'together', 'whatever', 'form', 'takes', 'remember', 'different', 'communities', 'different', 'faiths', 'played', 'part', 'wars', 'fought', 'together', 'society', 'not', 'NOT_tolerate', 'NOT_divisions', 'NOT_seek', 'NOT_penetrate', 'NOT_communities', 'noble', 'lord', 'point', 'going', 'tackle', 'activities', 'twitter', 'social', 'media', 'sites', 'twitter', 'takes', 'illegal', 'activity', 'point', 'us', 'working', 'together', 'two', 'nations', 'us', 'able', 'talk', 'csps', 'taking', 'content', 'twitter', 'platforms', 'continue', 'online', 'hate', 'crime', 'hub', 'tell', 'mama', 'allows', 'people', 'report', 'islamophobia', 'community', 'security', 'trust', 'repository', 'people', 'report', 'related', 'activity', 'absolutely', 'determined', 'drive', 'forms', 'hatred', 'within', 'country', 'country', 'rightly', 'proud', 'tolerance', 'respect', 'faiths', 'communities', 'lord', 'paddick', 'ld', 'lords', 'tweet', 'criticising', 'prime', 'minister', 'president', 'trump', 'talked', 'radical', 'islamic', 'terrorism', 'minister', 'agree', 'difference', 'islam', 'religion', 'islamism', 'violent', 'political', 'ideology', 'seeks', 'overthrow', 'democratically', 'elected', 'governments', 'liberal', 'values', 'expression', 'islamic', 'terrorism', 'contradiction', 'terms', 'deeply', 'unhelpful', 'must', 'clearly', 'differentiate', 'violent', 'criminals', 'followers', 'religion', 'baroness', 'williams', 'trafford', 'noble', 'lord', 'absolutely', 'right', 'make', 'distinction', 'islam', 'islamist', 'extremism', 'make', 'point', 'overwhelming', 'majority', 'muslims', 'country', 'peaceful', 'people', 'abhor', 'islamist', 'extremism', 'prime', 'minister', 'always', 'clear', 'ideologies', 'exist', 'must', 'tackled', 'head', 'precisely', 'uk', 'government', 'home', 'international', 'partners', 'example', 'previously', 'mentioned', 'remove', 'terrorist', 'content', 'websites', 'noble', 'lord', 'absolutely', 'right', 'point', 'distinction', 'must', 'see', 'happened', 'lord', 'bishop', 'worcester', 'last', 'point', 'made', 'noble', 'lord', 'minister', 'agree', 'addition', 'abhorring', 'violence', 'vast', 'majority', 'muslims', 'country', 'make', 'immeasurable', 'contribution', 'life', 'country', 'profoundly', 'grateful', 'needs', 'expressed', 'house', 'baroness', 'williams', 'trafford', 'delighted', 'express', 'behalf', 'house', 'sure', 'noble', 'lords', 'agree', 'not', 'NOT_muslims', 'NOT_abhor', 'NOT_violence—it', 'NOT_part', 'NOT_teaching', 'NOT_koran—but', 'NOT_helped', 'NOT_us', 'NOT_wars', 'NOT_fought', 'experience', 'helped', 'aftermath', 'awful', 'events', 'country', 'not', 'NOT_terrorist', 'NOT_attack', 'NOT_manchester', 'NOT_,', 'NOT_muslim', 'NOT_taxi', 'NOT_drivers', 'NOT_hand', 'NOT_giving', 'NOT_service', 'NOT_free', 'NOT_,', 'NOT_floods', 'NOT_manchester', 'NOT_muslim', 'NOT_community', 'NOT_helped', 'NOT_provide', 'NOT_food', 'NOT_shelter', 'NOT_people', 'NOT_need', 'brought', 'communities', 'together', 'remember', 'lord', 'cormack', 'con', 'lords', 'could', 'gently', 'suggest', 'president', 'greatest', 'ally', 'would', 'make', 'white', 'house', 'tweet', 'zone', 'would', 'make', 'immeasurable', 'contribution', 'peace', 'world', 'baroness', 'williams', 'trafford', 'recall', 'words', 'former', 'prime', 'minister', 'many', 'tweets', 'shall', 'not', 'NOT_repeat', 'NOT_said', 'NOT_,', 'NOT_yes', 'NOT_,', 'NOT_must', 'NOT_careful', 'NOT_tweet', 'NOT_effect', 'NOT_wider', 'NOT_community', 'tweet', 'care', 'lord', 'blair', 'boughton', 'cb', 'consideration', 'given', 'home', 'office', 'proscription', 'organisation', 'baroness', 'williams', 'trafford', 'sure', 'noble', 'lord', 'appreciate', 'would', 'not', 'NOT_comment', 'NOT_ongoing', 'NOT_considerations', 'NOT_proscriptions', 'kept', 'regular', 'review', 'lord', 'hain', 'lab', 'lords', 'assume', 'president', 'trump', 'tweets', 'messages', 'thought', 'carefully', 'agrees', 'endorsed', 'nazi', 'group', 'vicious', 'record', 'attacks', 'racism', 'islamophobia', 'surely', 'no', 'question', 'state', 'visit', 'expressed', 'least', 'remorse', 'baroness', 'williams', 'trafford', 'lords', 'would', 'not', 'NOT_want', 'NOT_make', 'NOT_assumption', 'NOT_people', 'NOT_think', 'NOT_tweet', 'state', 'visit', 'invitation', 'extended', 'accepted', 'firm', 'timetable', 'not', 'NOT_yet', 'NOT_finalised', 'lord', 'pearson', 'rannoch', 'ukip', 'lords', 'government', 'agree', 'reverend', 'primate', 'archbishop', 'canterbury', 'said', 'paris', 'last', 'september', 'effect', 'wrong', 'pretend', 'daesh', 'nothing', 'islam', 'not', 'NOT_defeat', 'NOT_islamism', 'NOT_understand', 'NOT_islam', 'NOT_?', 'NOT_government', 'NOT_understanding', 'NOT_?', 'NOT_baroness', 'NOT_williams', 'NOT_trafford', 'NOT_lords', 'NOT_,', 'NOT_absolutely', 'NOT_correct', 'NOT_daesh', 'NOT_nothing', 'NOT_islam', 'daesh', 'seeks', 'promote', 'ideology', 'form', 'islam', 'actually', 'nothing', 'islam', 'peaceful', 'religion', 'viscount', 'waverley', 'cb', 'lords', 'not', 'NOT_time', 'NOT_come', 'NOT_welcome', 'NOT_imam', 'NOT_house', 'NOT_?', 'NOT_baroness', 'NOT_williams', 'NOT_trafford', 'NOT_would', 'NOT_great', 'NOT_moment', 'baroness', 'altmann', 'con', 'lords', 'could', 'noble', 'friend', 'pass', 'congratulations', 'prime', 'minister', 'immediate', 'robust', 'response', 'tweets', 'president', 'trump', 'seems', 'endorsed', 'could', 'also', 'pass', 'pride', 'feel', 'country', 'government', 'respectful', 'religions', 'people', 'faiths', 'none', 'proud', 'live', 'country', 'tolerant', 'baroness', 'williams', 'trafford', 'agree', 'noble', 'friend', 'prime', 'minister', 'acted', 'quickly', 'robustly', 'could', 'no', 'confusion', 'said', 'yes', 'country', 'respects', 'religions', 'proud', 'country', 'live', 'lord', 'scriven', 'ld', 'lords', 'minister', 'said', 'state', 'visit', 'offered', 'accepted', 'noble', 'lord', 'lord', 'bourne', 'aberystwyth', 'government', 'minister', 'faith', 'less', 'minutes', 'ago', 'said', 'would', 'unable', 'welcome', 'president', 'united', 'states', 'tweets', 'home', 'office', 'responsible', 'community', 'cohesion', 'would', 'ministers', 'home', 'office', 'also', 'unable', 'welcome', 'president', 'united', 'states', 'baroness', 'williams', 'trafford', 'lords', 'point', 'made', 'place', 'today', 'must', 'think', 'relationship', 'us', 'uk', 'incredibly', 'important', 'described', 'us', 'instrumental', 'home', 'secretary', 'able', 'visit', 'csps', 'encourage', 'take', 'illegal', 'material', 'twitter', 'reiterate', 'point', 'invitation', 'extended', 'accepted']\n"
     ]
    }
   ],
   "source": [
    "#tag\n",
    "#find more frequent (therefore default) tagger\n",
    "bts = brown.tagged_sents(categories='news', tagset = 'universal')\n",
    "tags = [t for(w,t) in brown.tagged_words(categories='news', tagset = 'universal')]                                       \n",
    "fd = nltk.FreqDist(tags)\n",
    "fd.most_common(1)\n",
    "\n",
    "#most common is NOUN\n",
    "print(words)"
   ]
  },
  {
   "cell_type": "code",
   "execution_count": 8,
   "metadata": {
    "collapsed": true
   },
   "outputs": [],
   "source": [
    "#regular expressions tagger\n",
    "patterns=[\n",
    "(r'.+ing$','VERB'),\t#\tgerunds\n",
    "(r'.+ed$','VERB'),\t\t#    past tense of verbs\n",
    "(r'.+es$','VERB'),\t\t#    present tense\n",
    "(r'.+ould$','VERB'),\t#    modal verb\n",
    "(r'.+\\'s$','NOUN'),\t\t#    possessive\n",
    "(r'.+s$','NOUN'),\t\t#\t plural nouns\n",
    "(r'^-?[0-9]+$','NUM'),\t#     cardinal numbers\n",
    "(r'.+ly$','ADV'),         #     adverbs\n",
    "(r'(^the$|^a$|^wh)','DET'), # determiner\n",
    "(r'^[A-Z]','NOUN'),\t\t#     proper names\n",
    "(r'(^he$|^she$|^they$|^him$|^her$|^his$|^hers$|^theirs$)','PRO'), #personal pronouns\n",
    "(r'\\b(at|in|of)(?:\\w+\\s){0,3}([A-Z]\\w+)', 'PPO'), # prepositions\n",
    "(r'(^can$|^may$|^must$|^should$|^would$|^could$)','MOD'), #modals\n",
    "(r'(\\.|\\,|!\\?)','.'),\n",
    "(r'.+','NOUN'),\t\t\t# \tnouns (default) \n",
    "] "
   ]
  },
  {
   "cell_type": "code",
   "execution_count": 9,
   "metadata": {},
   "outputs": [
    {
     "name": "stdout",
     "output_type": "stream",
     "text": [
      "[[('online', 'NOUN'), ('hate', 'VERB'), ('speech', 'NOUN'), ('statement', 'NOUN'), ('minister', 'NOUN'), ('state', 'NOUN'), ('home', 'NOUN'), ('office', 'NOUN'), ('baroness', 'NOUN'), ('williams', 'NOUN'), ('trafford', 'NOUN'), ('con', 'ADJ'), ('lords', 'NOUN'), ('leave', 'VERB'), ('house', 'NOUN'), ('shall', 'VERB'), ('repeat', 'NOUN'), ('form', 'NOUN'), ('statement', 'NOUN'), ('answer', 'VERB'), ('delivered', 'VERB'), ('place', 'NOUN'), ('right', 'ADV'), ('honourable', 'NOUN'), ('friend', 'NOUN'), ('home', 'NOUN'), ('secretary', 'NOUN'), ('statement', 'NOUN'), ('follows', 'VERB'), ('britain', 'NOUN'), ('first', 'ADJ'), ('extremist', 'NOUN'), ('organisation', 'NOUN'), ('seeks', 'VERB'), ('divide', 'VERB'), ('communities', 'NOUN'), ('use', 'VERB'), ('hateful', 'NOUN'), ('narratives', 'VERB'), ('spread', 'VERB'), ('lies', 'VERB'), ('stoke', 'NOUN'), ('tensions', 'NOUN'), ('deputy', 'ADJ'), ('leader', 'NOUN'), ('britain', 'NOUN'), ('first', 'ADJ'), ('subject', 'NOUN'), ('pending', 'ADJ'), ('criminal', 'NOUN'), ('trial', 'NOUN'), ('accused', 'VERB'), ('religiously', 'ADV'), ('aggravated', 'VERB'), ('harassment', 'NOUN'), ('alleged', 'VERB'), ('distribution', 'NOUN'), ('leaflets', 'NOUN'), ('posting', 'VERB'), ('online', 'NOUN'), ('material', 'NOUN'), ('british', 'NOUN'), ('people', 'NOUN'), ('overwhelmingly', 'ADV'), ('reject', 'NOUN'), ('prejudiced', 'VERB'), ('rhetoric', 'NOUN'), ('far', 'ADV'), ('right', 'ADV'), ('antithesis', 'NOUN'), ('values', 'VERB'), ('country', 'NOUN'), ('tolerance', 'NOUN'), ('respect', 'NOUN'), ('stand', 'NOUN'), ('launched', 'VERB'), ('strategy', 'NOUN'), ('launched', 'VERB'), ('hate', 'VERB'), ('crime', 'NOUN'), ('action', 'NOUN'), ('plan', 'NOUN'), ('last', 'ADJ'), ('year', 'NOUN'), ('house', 'NOUN'), ('clear', 'ADJ'), ('government', 'NOUN'), ('not', 'ADV'), ('NOT_tolerate', 'NOUN'), ('NOT_groups', 'NOUN'), ('NOT_spread', 'NOUN'), ('NOT_hate', 'NOUN'), ('NOT_demonising', 'VERB'), ('NOT_faiths', 'NOUN'), ('NOT_ethnicities', 'VERB'), ('NOT_,', 'NOUN'), ('NOT_deliberately', 'ADV'), ('NOT_raise', 'NOUN'), ('NOT_community', 'NOUN'), ('NOT_fears', 'NOUN'), ('NOT_tensions', 'NOUN'), ('also', 'ADV'), ('clear', 'ADJ'), ('president', 'NOUN'), ('donald', 'NOUN'), ('trump', 'NOUN'), ('wrong', 'ADJ'), ('retweet', 'NOUN'), ('videos', 'NOUN'), ('posted', 'VERB'), ('group', 'NOUN'), ('britain', 'NOUN'), ('first', 'ADJ'), ('look', 'NOUN'), ('wider', 'ADJ'), ('picture', 'NOUN'), ('relationship', 'NOUN'), ('uk', 'NOUN'), ('america', 'NOUN'), ('know', 'VERB'), ('valuable', 'ADJ'), ('friendship', 'NOUN'), ('two', 'NUM'), ('nations', 'NOUN'), ('home', 'NOUN'), ('secretary', 'NOUN'), ('tell', 'VERB'), ('house', 'NOUN'), ('relationship', 'NOUN'), ('unparalleled', 'VERB'), ('sharing', 'VERB'), ('intelligence', 'NOUN'), ('vital', 'ADJ'), ('importance', 'NOUN'), ('undoubtedly', 'ADV'), ('saved', 'VERB'), ('british', 'NOUN'), ('lives', 'VERB'), ('bigger', 'ADJ'), ('picture', 'NOUN'), ('urge', 'NOUN'), ('people', 'NOUN'), ('remember', 'VERB'), ('lord', 'NOUN'), ('kennedy', 'NOUN'), ('southwark', 'NOUN'), ('lab', 'NOUN'), ('lords', 'NOUN'), ('first', 'ADJ'), ('prime', 'ADJ'), ('minister', 'NOUN'), ('absolutely', 'ADV'), ('right', 'ADV'), ('make', 'VERB'), ('clear', 'ADJ'), ('president', 'NOUN'), ('trump', 'NOUN'), ('wrong', 'ADJ'), ('tweet', 'NOUN'), ('videos', 'NOUN'), ('extremist', 'NOUN'), ('group', 'NOUN'), ('britain', 'NOUN'), ('first', 'ADJ'), ('actions', 'NOUN'), ('no', 'DET'), ('help', 'NOUN'), ('fight', 'NOUN'), ('terrorism', 'NOUN'), ('secondly', 'ADV'), ('minister', 'NOUN'), ('agree', 'VERB'), ('united', 'VERB'), ('kingdom', 'NOUN'), ('always', 'ADV'), ('always', 'ADV'), ('fight', 'NOUN'), ('terrorism', 'NOUN'), ('wherever', 'ADV'), ('comes', 'VERB'), ('police', 'NOUN'), ('security', 'NOUN'), ('services', 'NOUN'), ('military', 'NOUN'), ('keeping', 'VERB'), ('us', 'PRON'), ('safe', 'ADJ'), ('hours', 'NOUN'), ('day', 'NOUN'), ('people', 'NOUN'), ('faith', 'NOUN'), ('may', 'VERB'), ('people', 'NOUN'), ('no', 'DET'), ('faith', 'NOUN'), ('coming', 'VERB'), ('together', 'ADV'), ('communities', 'NOUN'), ('respecting', 'VERB'), ('celebrating', 'VERB'), ('differences', 'VERB'), ('learning', 'VERB'), ('equally', 'ADV'), ('important', 'ADJ'), ('fighting', 'VERB'), ('terrorism', 'NOUN'), ('spreaders', 'NOUN'), ('hate', 'VERB'), ('colleagues', 'NOUN'), ('government', 'NOUN'), ('look', 'VERB'), ('remove', 'VERB'), ('vile', 'NOUN'), ('sites', 'NOUN'), ('britain', 'NOUN'), ('first', 'ADJ'), ('web', 'NOUN'), ('baroness', 'NOUN'), ('williams', 'NOUN'), ('trafford', 'NOUN'), ('completely', 'ADV'), ('agree', 'VERB'), ('noble', 'ADJ'), ('lord', 'NOUN'), ('always', 'ADV'), ('fight', 'NOUN'), ('terrorism', 'NOUN'), ('fight', 'NOUN'), ('together', 'ADV'), ('whatever', 'DET'), ('form', 'NOUN'), ('takes', 'VERB'), ('remember', 'VERB'), ('different', 'ADJ'), ('communities', 'NOUN'), ('different', 'ADJ'), ('faiths', 'NOUN'), ('played', 'VERB'), ('part', 'NOUN'), ('wars', 'NOUN'), ('fought', 'VERB'), ('together', 'ADV'), ('society', 'NOUN'), ('not', 'ADV'), ('NOT_tolerate', 'NOUN'), ('NOT_divisions', 'NOUN'), ('NOT_seek', 'NOUN'), ('NOT_penetrate', 'NOUN'), ('NOT_communities', 'VERB'), ('noble', 'ADJ'), ('lord', 'NOUN'), ('point', 'NOUN'), ('going', 'VERB'), ('tackle', 'NOUN'), ('activities', 'NOUN'), ('twitter', 'NOUN'), ('social', 'ADJ'), ('media', 'NOUN'), ('sites', 'NOUN'), ('twitter', 'NOUN'), ('takes', 'VERB'), ('illegal', 'ADJ'), ('activity', 'NOUN'), ('point', 'NOUN'), ('us', 'PRON'), ('working', 'VERB'), ('together', 'ADV'), ('two', 'NUM'), ('nations', 'NOUN'), ('us', 'PRON'), ('able', 'ADJ'), ('talk', 'NOUN'), ('csps', 'NOUN'), ('taking', 'VERB'), ('content', 'NOUN'), ('twitter', 'NOUN'), ('platforms', 'NOUN'), ('continue', 'VERB'), ('online', 'NOUN'), ('hate', 'VERB'), ('crime', 'NOUN'), ('hub', 'NOUN'), ('tell', 'VERB'), ('mama', 'NOUN'), ('allows', 'VERB'), ('people', 'NOUN'), ('report', 'VERB'), ('islamophobia', 'NOUN'), ('community', 'NOUN'), ('security', 'NOUN'), ('trust', 'NOUN'), ('repository', 'NOUN'), ('people', 'NOUN'), ('report', 'VERB'), ('related', 'VERB'), ('activity', 'NOUN'), ('absolutely', 'ADV'), ('determined', 'VERB'), ('drive', 'VERB'), ('forms', 'NOUN'), ('hatred', 'VERB'), ('within', 'ADP'), ('country', 'NOUN'), ('country', 'NOUN'), ('rightly', 'ADV'), ('proud', 'ADJ'), ('tolerance', 'NOUN'), ('respect', 'NOUN'), ('faiths', 'NOUN'), ('communities', 'NOUN'), ('lord', 'NOUN'), ('paddick', 'NOUN'), ('ld', 'NOUN'), ('lords', 'NOUN'), ('tweet', 'NOUN'), ('criticising', 'VERB'), ('prime', 'ADJ'), ('minister', 'NOUN'), ('president', 'NOUN'), ('trump', 'NOUN'), ('talked', 'VERB'), ('radical', 'NOUN'), ('islamic', 'NOUN'), ('terrorism', 'NOUN'), ('minister', 'NOUN'), ('agree', 'VERB'), ('difference', 'NOUN'), ('islam', 'NOUN'), ('religion', 'NOUN'), ('islamism', 'NOUN'), ('violent', 'ADJ'), ('political', 'ADJ'), ('ideology', 'NOUN'), ('seeks', 'VERB'), ('overthrow', 'NOUN'), ('democratically', 'ADV'), ('elected', 'VERB'), ('governments', 'NOUN'), ('liberal', 'ADJ'), ('values', 'VERB'), ('expression', 'NOUN'), ('islamic', 'NOUN'), ('terrorism', 'NOUN'), ('contradiction', 'NOUN'), ('terms', 'NOUN'), ('deeply', 'ADV'), ('unhelpful', 'NOUN'), ('must', 'VERB'), ('clearly', 'ADV'), ('differentiate', 'NOUN'), ('violent', 'ADJ'), ('criminals', 'NOUN'), ('followers', 'NOUN'), ('religion', 'NOUN'), ('baroness', 'NOUN'), ('williams', 'NOUN'), ('trafford', 'NOUN'), ('noble', 'ADJ'), ('lord', 'NOUN'), ('absolutely', 'ADV'), ('right', 'ADV'), ('make', 'VERB'), ('distinction', 'NOUN'), ('islam', 'NOUN'), ('islamist', 'NOUN'), ('extremism', 'NOUN'), ('make', 'VERB'), ('point', 'NOUN'), ('overwhelming', 'VERB'), ('majority', 'NOUN'), ('muslims', 'NOUN'), ('country', 'NOUN'), ('peaceful', 'NOUN'), ('people', 'NOUN'), ('abhor', 'NOUN'), ('islamist', 'NOUN'), ('extremism', 'NOUN'), ('prime', 'ADJ'), ('minister', 'NOUN'), ('always', 'ADV'), ('clear', 'ADJ'), ('ideologies', 'VERB'), ('exist', 'VERB'), ('must', 'VERB'), ('tackled', 'VERB'), ('head', 'NOUN'), ('precisely', 'ADV'), ('uk', 'NOUN'), ('government', 'NOUN'), ('home', 'NOUN'), ('international', 'ADJ'), ('partners', 'NOUN'), ('example', 'NOUN'), ('previously', 'ADV'), ('mentioned', 'VERB'), ('remove', 'VERB'), ('terrorist', 'NOUN'), ('content', 'NOUN'), ('websites', 'VERB'), ('noble', 'ADJ'), ('lord', 'NOUN'), ('absolutely', 'ADV'), ('right', 'ADV'), ('point', 'NOUN'), ('distinction', 'NOUN'), ('must', 'VERB'), ('see', 'VERB'), ('happened', 'VERB'), ('lord', 'NOUN'), ('bishop', 'NOUN'), ('worcester', 'NOUN'), ('last', 'ADJ'), ('point', 'NOUN'), ('made', 'VERB'), ('noble', 'ADJ'), ('lord', 'NOUN'), ('minister', 'NOUN'), ('agree', 'VERB'), ('addition', 'NOUN'), ('abhorring', 'VERB'), ('violence', 'NOUN'), ('vast', 'ADJ'), ('majority', 'NOUN'), ('muslims', 'NOUN'), ('country', 'NOUN'), ('make', 'VERB'), ('immeasurable', 'NOUN'), ('contribution', 'NOUN'), ('life', 'NOUN'), ('country', 'NOUN'), ('profoundly', 'ADV'), ('grateful', 'ADJ'), ('needs', 'NOUN'), ('expressed', 'VERB'), ('house', 'NOUN'), ('baroness', 'NOUN'), ('williams', 'NOUN'), ('trafford', 'NOUN'), ('delighted', 'VERB'), ('express', 'NOUN'), ('behalf', 'NOUN'), ('house', 'NOUN'), ('sure', 'ADJ'), ('noble', 'ADJ'), ('lords', 'NOUN'), ('agree', 'VERB'), ('not', 'ADV'), ('NOT_muslims', 'NOUN'), ('NOT_abhor', 'NOUN'), ('NOT_violence—it', 'NOUN'), ('NOT_part', 'NOUN'), ('NOT_teaching', 'VERB'), ('NOT_koran—but', 'NOUN'), ('NOT_helped', 'VERB'), ('NOT_us', 'NOUN'), ('NOT_wars', 'NOUN'), ('NOT_fought', 'NOUN'), ('experience', 'NOUN'), ('helped', 'VERB'), ('aftermath', 'NOUN'), ('awful', 'NOUN'), ('events', 'NOUN'), ('country', 'NOUN'), ('not', 'ADV'), ('NOT_terrorist', 'NOUN'), ('NOT_attack', 'NOUN'), ('NOT_manchester', 'NOUN'), ('NOT_,', 'NOUN'), ('NOT_muslim', 'NOUN'), ('NOT_taxi', 'NOUN'), ('NOT_drivers', 'NOUN'), ('NOT_hand', 'NOUN'), ('NOT_giving', 'VERB'), ('NOT_service', 'NOUN'), ('NOT_free', 'NOUN'), ('NOT_,', 'NOUN'), ('NOT_floods', 'NOUN'), ('NOT_manchester', 'NOUN'), ('NOT_muslim', 'NOUN'), ('NOT_community', 'NOUN'), ('NOT_helped', 'VERB'), ('NOT_provide', 'NOUN'), ('NOT_food', 'NOUN'), ('NOT_shelter', 'NOUN'), ('NOT_people', 'NOUN'), ('NOT_need', 'VERB'), ('brought', 'VERB'), ('communities', 'NOUN'), ('together', 'ADV'), ('remember', 'VERB'), ('lord', 'NOUN'), ('cormack', 'NOUN'), ('con', 'ADJ'), ('lords', 'NOUN'), ('could', 'VERB'), ('gently', 'ADV'), ('suggest', 'VERB'), ('president', 'NOUN'), ('greatest', 'ADJ'), ('ally', 'NOUN'), ('would', 'VERB'), ('make', 'VERB'), ('white', 'ADJ'), ('house', 'NOUN'), ('tweet', 'NOUN'), ('zone', 'NOUN'), ('would', 'VERB'), ('make', 'VERB'), ('immeasurable', 'NOUN'), ('contribution', 'NOUN'), ('peace', 'NOUN'), ('world', 'NOUN'), ('baroness', 'NOUN'), ('williams', 'NOUN'), ('trafford', 'NOUN'), ('recall', 'NOUN'), ('words', 'NOUN'), ('former', 'ADJ'), ('prime', 'ADJ'), ('minister', 'NOUN'), ('many', 'ADJ'), ('tweets', 'NOUN'), ('shall', 'VERB'), ('not', 'ADV'), ('NOT_repeat', 'NOUN'), ('NOT_said', 'NOUN'), ('NOT_,', 'NOUN'), ('NOT_yes', 'VERB'), ('NOT_,', 'NOUN'), ('NOT_must', 'NOUN'), ('NOT_careful', 'NOUN'), ('NOT_tweet', 'NOUN'), ('NOT_effect', 'NOUN'), ('NOT_wider', 'NOUN'), ('NOT_community', 'NOUN'), ('tweet', 'NOUN'), ('care', 'NOUN'), ('lord', 'NOUN'), ('blair', 'NOUN'), ('boughton', 'NOUN'), ('cb', 'NOUN'), ('consideration', 'NOUN'), ('given', 'VERB'), ('home', 'NOUN'), ('office', 'NOUN'), ('proscription', 'NOUN'), ('organisation', 'NOUN'), ('baroness', 'NOUN'), ('williams', 'NOUN'), ('trafford', 'NOUN'), ('sure', 'ADJ'), ('noble', 'ADJ'), ('lord', 'NOUN'), ('appreciate', 'VERB'), ('would', 'VERB'), ('not', 'ADV'), ('NOT_comment', 'NOUN'), ('NOT_ongoing', 'VERB'), ('NOT_considerations', 'NOUN'), ('NOT_proscriptions', 'NOUN'), ('kept', 'VERB'), ('regular', 'ADJ'), ('review', 'NOUN'), ('lord', 'NOUN'), ('hain', 'NOUN'), ('lab', 'NOUN'), ('lords', 'NOUN'), ('assume', 'NOUN'), ('president', 'NOUN'), ('trump', 'NOUN'), ('tweets', 'NOUN'), ('messages', 'VERB'), ('thought', 'VERB'), ('carefully', 'ADV'), ('agrees', 'VERB'), ('endorsed', 'VERB'), ('nazi', 'NOUN'), ('group', 'NOUN'), ('vicious', 'ADJ'), ('record', 'NOUN'), ('attacks', 'NOUN'), ('racism', 'NOUN'), ('islamophobia', 'NOUN'), ('surely', 'ADV'), ('no', 'DET'), ('question', 'NOUN'), ('state', 'NOUN'), ('visit', 'NOUN'), ('expressed', 'VERB'), ('least', 'ADJ'), ('remorse', 'NOUN'), ('baroness', 'NOUN'), ('williams', 'NOUN'), ('trafford', 'NOUN'), ('lords', 'NOUN'), ('would', 'VERB'), ('not', 'ADV'), ('NOT_want', 'NOUN'), ('NOT_make', 'NOUN'), ('NOT_assumption', 'NOUN'), ('NOT_people', 'NOUN'), ('NOT_think', 'NOUN'), ('NOT_tweet', 'NOUN'), ('state', 'NOUN'), ('visit', 'NOUN'), ('invitation', 'NOUN'), ('extended', 'VERB'), ('accepted', 'VERB'), ('firm', 'NOUN'), ('timetable', 'NOUN'), ('not', 'ADV'), ('NOT_yet', 'NOUN'), ('NOT_finalised', 'VERB'), ('lord', 'NOUN'), ('pearson', 'NOUN'), ('rannoch', 'NOUN'), ('ukip', 'NOUN'), ('lords', 'NOUN'), ('government', 'NOUN'), ('agree', 'VERB'), ('reverend', 'NOUN'), ('primate', 'NOUN'), ('archbishop', 'NOUN'), ('canterbury', 'NOUN'), ('said', 'VERB'), ('paris', 'NOUN'), ('last', 'ADJ'), ('september', 'NOUN'), ('effect', 'NOUN'), ('wrong', 'ADJ'), ('pretend', 'NOUN'), ('daesh', 'NOUN'), ('nothing', 'NOUN'), ('islam', 'NOUN'), ('not', 'ADV'), ('NOT_defeat', 'NOUN'), ('NOT_islamism', 'NOUN'), ('NOT_understand', 'NOUN'), ('NOT_islam', 'NOUN'), ('NOT_?', 'NOUN'), ('NOT_government', 'NOUN'), ('NOT_understanding', 'VERB'), ('NOT_?', 'NOUN'), ('NOT_baroness', 'NOUN'), ('NOT_williams', 'NOUN'), ('NOT_trafford', 'NOUN'), ('NOT_lords', 'NOUN'), ('NOT_,', 'NOUN'), ('NOT_absolutely', 'ADV'), ('NOT_correct', 'NOUN'), ('NOT_daesh', 'NOUN'), ('NOT_nothing', 'VERB'), ('NOT_islam', 'NOUN'), ('daesh', 'NOUN'), ('seeks', 'VERB'), ('promote', 'VERB'), ('ideology', 'NOUN'), ('form', 'NOUN'), ('islam', 'NOUN'), ('actually', 'ADV'), ('nothing', 'NOUN'), ('islam', 'NOUN'), ('peaceful', 'NOUN'), ('religion', 'NOUN'), ('viscount', 'NOUN'), ('waverley', 'NOUN'), ('cb', 'NOUN'), ('lords', 'NOUN'), ('not', 'ADV'), ('NOT_time', 'NOUN'), ('NOT_come', 'NOUN'), ('NOT_welcome', 'NOUN'), ('NOT_imam', 'NOUN'), ('NOT_house', 'NOUN'), ('NOT_?', 'NOUN'), ('NOT_baroness', 'NOUN'), ('NOT_williams', 'NOUN'), ('NOT_trafford', 'NOUN'), ('NOT_would', 'VERB'), ('NOT_great', 'NOUN'), ('NOT_moment', 'NOUN'), ('baroness', 'NOUN'), ('altmann', 'NOUN'), ('con', 'ADJ'), ('lords', 'NOUN'), ('could', 'VERB'), ('noble', 'ADJ'), ('friend', 'NOUN'), ('pass', 'NOUN'), ('congratulations', 'NOUN'), ('prime', 'ADJ'), ('minister', 'NOUN'), ('immediate', 'ADJ'), ('robust', 'NOUN'), ('response', 'NOUN'), ('tweets', 'NOUN'), ('president', 'NOUN'), ('trump', 'NOUN'), ('seems', 'VERB'), ('endorsed', 'VERB'), ('could', 'VERB'), ('also', 'ADV'), ('pass', 'VERB'), ('pride', 'NOUN'), ('feel', 'VERB'), ('country', 'NOUN'), ('government', 'NOUN'), ('respectful', 'NOUN'), ('religions', 'NOUN'), ('people', 'NOUN'), ('faiths', 'NOUN'), ('none', 'NOUN'), ('proud', 'ADJ'), ('live', 'VERB'), ('country', 'NOUN'), ('tolerant', 'NOUN'), ('baroness', 'NOUN'), ('williams', 'NOUN'), ('trafford', 'NOUN'), ('agree', 'VERB'), ('noble', 'ADJ'), ('friend', 'NOUN'), ('prime', 'ADJ'), ('minister', 'NOUN'), ('acted', 'VERB'), ('quickly', 'ADV'), ('robustly', 'ADV'), ('could', 'VERB'), ('no', 'DET'), ('confusion', 'NOUN'), ('said', 'VERB'), ('yes', 'VERB'), ('country', 'NOUN'), ('respects', 'VERB'), ('religions', 'NOUN'), ('proud', 'ADJ'), ('country', 'NOUN'), ('live', 'VERB'), ('lord', 'NOUN'), ('scriven', 'NOUN'), ('ld', 'NOUN'), ('lords', 'NOUN'), ('minister', 'NOUN'), ('said', 'VERB'), ('state', 'NOUN'), ('visit', 'NOUN'), ('offered', 'VERB'), ('accepted', 'VERB'), ('noble', 'ADJ'), ('lord', 'NOUN'), ('lord', 'NOUN'), ('bourne', 'NOUN'), ('aberystwyth', 'NOUN'), ('government', 'NOUN'), ('minister', 'NOUN'), ('faith', 'NOUN'), ('less', 'ADV'), ('minutes', 'NOUN'), ('ago', 'ADV'), ('said', 'VERB'), ('would', 'VERB'), ('unable', 'ADJ'), ('welcome', 'VERB'), ('president', 'NOUN'), ('united', 'VERB'), ('states', 'NOUN'), ('tweets', 'NOUN'), ('home', 'NOUN'), ('office', 'NOUN'), ('responsible', 'ADJ'), ('community', 'NOUN'), ('cohesion', 'NOUN'), ('would', 'VERB'), ('ministers', 'NOUN'), ('home', 'NOUN'), ('office', 'NOUN'), ('also', 'ADV'), ('unable', 'ADJ'), ('welcome', 'VERB'), ('president', 'NOUN'), ('united', 'VERB'), ('states', 'NOUN'), ('baroness', 'NOUN'), ('williams', 'NOUN'), ('trafford', 'NOUN'), ('lords', 'NOUN'), ('point', 'NOUN'), ('made', 'VERB'), ('place', 'NOUN'), ('today', 'NOUN'), ('must', 'VERB'), ('think', 'VERB'), ('relationship', 'NOUN'), ('us', 'PRON'), ('uk', 'NOUN'), ('incredibly', 'ADV'), ('important', 'ADJ'), ('described', 'VERB'), ('us', 'PRON'), ('instrumental', 'NOUN'), ('home', 'NOUN'), ('secretary', 'NOUN'), ('able', 'ADJ'), ('visit', 'NOUN'), ('csps', 'NOUN'), ('encourage', 'VERB'), ('take', 'VERB'), ('illegal', 'ADJ'), ('material', 'NOUN'), ('twitter', 'NOUN'), ('reiterate', 'VERB'), ('point', 'NOUN'), ('invitation', 'NOUN'), ('extended', 'VERB'), ('accepted', 'VERB')]]\n"
     ]
    }
   ],
   "source": [
    "#unigram\n",
    "size = int(len(bts)*0.9)\n",
    "train = bts[:size]\n",
    "test = bts[size:]\n",
    "unigram_tagger=nltk.UnigramTagger(train)\n",
    "unigram_tagger.evaluate(test)\n",
    "\n",
    "#bringing in context: n-gram except issue with sparse data problem\n",
    "#bigram\n",
    "bg_tag = nltk.BigramTagger(train)\n",
    "bg_tag.evaluate(test)\n",
    "bg_tagged_sents = [bg_tag.tag(s) for s in words]\n",
    "bad_tags = [s for s in bg_tagged_sents if None in [tag for (w,tag) in s]]\n",
    "bad_tags[0]\n",
    "\n",
    "#combine different taggers to get the most accurate\n",
    "t0=nltk.DefaultTagger('NOUN')\n",
    "t1=nltk.RegexpTagger(patterns, backoff =t0)\n",
    "t2=nltk.UnigramTagger(train, backoff=t1)\n",
    "t3=nltk.BigramTagger(train, backoff= t2)\n",
    "t3.evaluate(test)\n",
    "\n",
    "tagged_words = [t3.tag(words)]\n",
    "\n",
    "print(tagged_words)"
   ]
  },
  {
   "cell_type": "code",
   "execution_count": 44,
   "metadata": {},
   "outputs": [
    {
     "name": "stdout",
     "output_type": "stream",
     "text": [
      "Counter({'NOUN': 508, 'VERB': 163, 'ADJ': 74, 'ADV': 57, 'DET': 5, 'PRON': 5, 'NUM': 2, 'ADP': 1})\n"
     ]
    }
   ],
   "source": [
    "#count up the NOUN/VERB/ADV/ADJ in the text\n",
    "\n",
    "from collections import Counter\n",
    "c = tuple(i for i in tagged_words[0])\n",
    "d = Counter(elem[1] for elem in c)\n",
    "print(d)"
   ]
  },
  {
   "cell_type": "code",
   "execution_count": null,
   "metadata": {
    "collapsed": true
   },
   "outputs": [],
   "source": []
  }
 ],
 "metadata": {
  "kernelspec": {
   "display_name": "Python 3",
   "language": "python",
   "name": "python3"
  },
  "language_info": {
   "codemirror_mode": {
    "name": "ipython",
    "version": 3
   },
   "file_extension": ".py",
   "mimetype": "text/x-python",
   "name": "python",
   "nbconvert_exporter": "python",
   "pygments_lexer": "ipython3",
   "version": "3.6.2"
  }
 },
 "nbformat": 4,
 "nbformat_minor": 2
}
