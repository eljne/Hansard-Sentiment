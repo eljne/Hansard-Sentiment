{
 "cells": [
  {
   "cell_type": "code",
   "execution_count": null,
   "metadata": {},
   "outputs": [],
   "source": [
    "#draft of evaluation program\n",
    "\n",
    "#calculate accuracy given the true/predicted labels\n",
    "def accuracy(y_test,y_pred):\n",
    "    accuracy = 0\n",
    "    count_correct = 0\n",
    "    for i in range(0,(len(y_test))):\n",
    "        if (y_test[i] == y_pred[i]):\n",
    "            #print(y_test[i],\" = \",y_pred[i])\n",
    "            count_correct = count_correct + 1\n",
    "            #print(\"cc: \",count_correct)\n",
    "    accuracy = (count_correct / len(y_test)) * 100\n",
    "    return accuracy\n",
    "\n",
    "#calculate precision given the true/predicted labels\n",
    "def precision(y_test,y_pred):\n",
    "    precision = 0\n",
    "    count_correct = 0\n",
    "    for i in range(0,(len(y_test))):\n",
    "        if (y_test[i] == y_pred[i]):\n",
    "            #print(y_test[i],\" = \",y_pred[i])\n",
    "            count_correct = count_correct + 1\n",
    "            #print(\"cc: \",count_correct)\n",
    "    precision = #(count_correct / len(y_test)) * 100\n",
    "    return precision\n",
    "\n",
    "#calculate f1 given the true/predicted labels\n",
    "def f1(y_test,y_pred):\n",
    "    f1 = 0\n",
    "    count_correct = 0\n",
    "    for i in range(0,(len(y_test))):\n",
    "        if (y_test[i] == y_pred[i]):\n",
    "            #print(y_test[i],\" = \",y_pred[i])\n",
    "            count_correct = count_correct + 1\n",
    "            #print(\"cc: \",count_correct)\n",
    "    f1 = #(count_correct / len(y_test)) * 100\n",
    "    return f1\n",
    "\n",
    "#confusion matrix function\n",
    "def confmat(y_test,y_pred,classno):\n",
    "    # initialize the confusion matrix to zeros\n",
    "    C= np.empty([classno, classno])\n",
    "    print(len(y_test))\n",
    "    print(classno)\n",
    "    #loop through all results and update the confusion matrix\n",
    "    for j in range(1,len(y_test)): \n",
    "            count = C[y_test[j],y_pred[j]] \n",
    "            C[y_test[j],y_pred[j]] = count + 1\n",
    "    return C"
   ]
  }
 ],
 "metadata": {
  "kernelspec": {
   "display_name": "Python 3",
   "language": "python",
   "name": "python3"
  },
  "language_info": {
   "codemirror_mode": {
    "name": "ipython",
    "version": 3
   },
   "file_extension": ".py",
   "mimetype": "text/x-python",
   "name": "python",
   "nbconvert_exporter": "python",
   "pygments_lexer": "ipython3",
   "version": "3.5.4"
  }
 },
 "nbformat": 4,
 "nbformat_minor": 2
}
