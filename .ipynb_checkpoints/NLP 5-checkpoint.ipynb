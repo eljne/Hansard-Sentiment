{
 "cells": [
  {
   "cell_type": "code",
   "execution_count": 3,
   "metadata": {},
   "outputs": [
    {
     "data": {
      "text/plain": [
       "[('NOUN', 30654)]"
      ]
     },
     "execution_count": 3,
     "metadata": {},
     "output_type": "execute_result"
    }
   ],
   "source": [
    "import nltk\n",
    "#from nltk.book import *\n",
    "import matplotlib.pyplot\n",
    "\n",
    "from nltk.corpus import brown\n",
    "\n",
    "bts = brown.tagged_sents(categories='news', tagset = 'universal')\n",
    "\n",
    "tags = [t for(w,t) in brown.tagged_words(categories='news', tagset = 'universal')]\n",
    "                                         \n",
    "fd = nltk.FreqDist(tags)\n",
    "fd.most_common(1)"
   ]
  },
  {
   "cell_type": "code",
   "execution_count": 31,
   "metadata": {},
   "outputs": [
    {
     "data": {
      "text/plain": [
       "0.30485112476878096"
      ]
     },
     "execution_count": 31,
     "metadata": {},
     "output_type": "execute_result"
    }
   ],
   "source": [
    "#default tagger: based on most likely\n",
    "\n",
    "raw = 'I am by birth a Genevese, and my family is one of the most distinguished of that republic. My ancestors had been for many years counsellors and syndics, and my father had filled several public situations with honour and reputation. He was respected by all who knew him for his integrity and indefatigable attention to public business. He passed his younger days perpetually occupied by the affairs of his country; a variety of circumstances had prevented his marrying early, nor was it until the decline of life that he became a husband and the father of a family.'\n",
    "tokens = nltk.word_tokenize(raw)\n",
    "def_tag = nltk.DefaultTagger('NOUN')\n",
    "def_tag.tag(tokens)\n",
    "\n",
    "def_tag.evaluate(bts)"
   ]
  },
  {
   "cell_type": "code",
   "execution_count": 35,
   "metadata": {},
   "outputs": [
    {
     "data": {
      "text/plain": [
       "0.5245042464745311"
      ]
     },
     "execution_count": 35,
     "metadata": {},
     "output_type": "execute_result"
    }
   ],
   "source": [
    "#RE tagger\n",
    "patterns=[\n",
    "(r'.+ing$','VERB'),\t#\tgerunds\n",
    "(r'.+ed$','VERB'),\t\t#    past tense of verbs\n",
    "(r'.+es$','VERB'),\t\t#    present tense\n",
    "(r'.+ould$','VERB'),\t#    modal verb\n",
    "(r'.+\\'s$','NOUN'),\t\t#    possessive\n",
    "(r'.+s$','NOUN'),\t\t#\t plural nouns\n",
    "(r'^-?[0-9]+$','NUM'),\t#     cardinal numbers\n",
    "(r'.+ly$','ADV'),         #     adverbs\n",
    "(r'(^the$|^a$|^wh)','DET'), # determiner\n",
    "(r'^[A-Z]','NOUN'),\t\t#     proper names\n",
    "(r'(^he$|^she$|^they$|^him$|^her$|^his$|^hers$|^theirs$)','PRO'), #personal pronouns\n",
    "(r'\\b(at|in|of)(?:\\w+\\s){0,3}([A-Z]\\w+)', 'PPO'), # prepositions\n",
    "(r'(^can$|^may$|^must$|^should$|^would$|^could$)','MOD'), #modals\n",
    "(r'(\\.|\\,|!\\?)','.'),\n",
    "(r'.+','NOUN'),\t\t\t# \tnouns (default) \n",
    "] \n",
    "\n",
    "re_tag= nltk.RegexpTagger(patterns)\n",
    "re_tag.tag(tokens)\n",
    "re_tag.evaluate(bts)"
   ]
  },
  {
   "cell_type": "code",
   "execution_count": 14,
   "metadata": {},
   "outputs": [
    {
     "data": {
      "text/plain": [
       "[('The', 'DET'),\n",
       " ('Fulton', 'NOUN'),\n",
       " ('County', 'NOUN'),\n",
       " ('Grand', 'X'),\n",
       " ('Jury', None),\n",
       " ('said', None),\n",
       " ('Friday', None),\n",
       " ('an', None),\n",
       " ('investigation', None),\n",
       " ('of', None),\n",
       " (\"Atlanta's\", None),\n",
       " ('recent', None),\n",
       " ('primary', None),\n",
       " ('election', None),\n",
       " ('produced', None),\n",
       " ('``', None),\n",
       " ('no', None),\n",
       " ('evidence', None),\n",
       " (\"''\", None),\n",
       " ('that', None),\n",
       " ('any', None),\n",
       " ('irregularities', None),\n",
       " ('took', None),\n",
       " ('place', None),\n",
       " ('.', None)]"
      ]
     },
     "execution_count": 14,
     "metadata": {},
     "output_type": "execute_result"
    }
   ],
   "source": [
    "#Training taggers\n",
    "\n",
    "#unigram\n",
    "size = int(len(bts)*0.9)\n",
    "size\n",
    "train = bts[:size]\n",
    "test = bts[size:]\n",
    "unigram_tagger=nltk.UnigramTagger(train)\n",
    "unigram_tagger.evaluate(test)\n",
    "\n",
    "#bringing in context: n-gram except issue with sparse data problem\n",
    "#bigram\n",
    "bg_tag = nltk.BigramTagger(train)\n",
    "bg_tag.evaluate(test)\n",
    "bg_tagged_sents = [bg_tag.tag(s) for s in brown.sents()]\n",
    "bad_tags = [s for s in bg_tagged_sents if None in [tag for (w,tag) in s]]\n",
    "bad_tags[0]"
   ]
  },
  {
   "cell_type": "code",
   "execution_count": 16,
   "metadata": {},
   "outputs": [
    {
     "data": {
      "text/plain": [
       "0.9211601714342669"
      ]
     },
     "execution_count": 16,
     "metadata": {},
     "output_type": "execute_result"
    }
   ],
   "source": [
    "#combining different taggers - backoff\n",
    "\n",
    "t0=nltk.DefaultTagger('NOUN')\n",
    "t1=nltk.UnigramTagger(train, backoff=t0)\n",
    "t2=nltk.BigramTagger(train, backoff= t1)\n",
    "t2.evaluate(test)"
   ]
  },
  {
   "cell_type": "code",
   "execution_count": null,
   "metadata": {},
   "outputs": [],
   "source": []
  }
 ],
 "metadata": {
  "kernelspec": {
   "display_name": "Python 3",
   "language": "python",
   "name": "python3"
  },
  "language_info": {
   "codemirror_mode": {
    "name": "ipython",
    "version": 3
   },
   "file_extension": ".py",
   "mimetype": "text/x-python",
   "name": "python",
   "nbconvert_exporter": "python",
   "pygments_lexer": "ipython3",
   "version": "3.5.4"
  }
 },
 "nbformat": 4,
 "nbformat_minor": 2
}
