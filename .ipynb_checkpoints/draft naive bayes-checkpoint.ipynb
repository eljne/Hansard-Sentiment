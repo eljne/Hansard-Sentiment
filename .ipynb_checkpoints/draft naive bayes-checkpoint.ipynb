{
 "cells": [
  {
   "cell_type": "code",
   "execution_count": null,
   "metadata": {},
   "outputs": [],
   "source": [
    "#draft of binary multinomial naive Bayes program\n",
    "\n",
    "#manually label speeches as positive or negative: do this by sentence or by speech? \n",
    "#load this data into dictionaries- remove stopwords, but account for negation\n",
    "#calculate frequency count of words, do they appear in positive or negative bags of words?\n",
    "#training data: load in (remove stopwords but deal with negation): how likely is it that each word in training data is in either the positive or negative bag?\n",
    "#calculate probablilty of training data being positive or negative\n",
    "\n",
    "\n"
   ]
  }
 ],
 "metadata": {
  "kernelspec": {
   "display_name": "Python 3",
   "language": "python",
   "name": "python3"
  },
  "language_info": {
   "codemirror_mode": {
    "name": "ipython",
    "version": 3
   },
   "file_extension": ".py",
   "mimetype": "text/x-python",
   "name": "python",
   "nbconvert_exporter": "python",
   "pygments_lexer": "ipython3",
   "version": "3.5.4"
  }
 },
 "nbformat": 4,
 "nbformat_minor": 2
}
